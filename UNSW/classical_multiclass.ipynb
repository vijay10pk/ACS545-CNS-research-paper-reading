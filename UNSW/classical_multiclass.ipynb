{
 "cells": [
  {
   "cell_type": "code",
   "execution_count": 10,
   "metadata": {},
   "outputs": [],
   "source": [
    "import numpy as np\n",
    "import pandas as pd\n",
    "from sklearn.kernel_approximation import RBFSampler\n",
    "from sklearn.linear_model import SGDClassifier\n",
    "from sklearn.model_selection import train_test_split\n",
    "from sklearn import svm\n",
    "from sklearn.metrics import classification_report\n",
    "from sklearn import metrics\n",
    "from sklearn.linear_model import LogisticRegression\n",
    "from sklearn.naive_bayes import GaussianNB\n",
    "from sklearn.neighbors import KNeighborsClassifier\n",
    "from sklearn.tree import DecisionTreeClassifier\n",
    "from sklearn.metrics import (precision_score, recall_score,f1_score, accuracy_score,mean_squared_error,mean_absolute_error)\n",
    "from sklearn.ensemble import AdaBoostClassifier\n",
    "from sklearn.ensemble import RandomForestClassifier\n",
    "from sklearn.preprocessing import Normalizer\n",
    "from sklearn.metrics import confusion_matrix"
   ]
  },
  {
   "cell_type": "code",
   "execution_count": 2,
   "metadata": {},
   "outputs": [],
   "source": [
    "traindata = pd.read_csv('traindata.csv', index_col = 0)\n",
    "testdata = pd.read_csv('testdata.csv', index_col = 0)"
   ]
  },
  {
   "cell_type": "code",
   "execution_count": 3,
   "metadata": {},
   "outputs": [
    {
     "name": "stdout",
     "output_type": "stream",
     "text": [
      "Index([], dtype='object')\n",
      "Index([], dtype='object')\n"
     ]
    }
   ],
   "source": [
    "from sklearn.preprocessing import LabelEncoder\n",
    "\n",
    "train = traindata.select_dtypes(exclude=[np.number])\n",
    "print(train.columns)\n",
    "for feature in train.columns:\n",
    "    traindata[feature] = LabelEncoder().fit_transform(traindata[feature])\n",
    "\n",
    "test = testdata.select_dtypes(exclude=[np.number])\n",
    "print(test.columns)\n",
    "for feature in test.columns:\n",
    "    testdata[feature] = LabelEncoder().fit_transform(testdata[feature])"
   ]
  },
  {
   "cell_type": "code",
   "execution_count": 4,
   "metadata": {},
   "outputs": [],
   "source": [
    "trainD = traindata.groupby('label', group_keys=False).apply(lambda x: x.sample(frac=0.05))\n",
    "testD = testdata.groupby('label', group_keys=False).apply(lambda x: x.sample(frac=0.07))"
   ]
  },
  {
   "cell_type": "code",
   "execution_count": 5,
   "metadata": {},
   "outputs": [],
   "source": [
    "X = trainD.iloc[:,0:42]\n",
    "Y = trainD.iloc[:,42]\n",
    "C = testD.iloc[:,42]\n",
    "T = testD.iloc[:,0:42]"
   ]
  },
  {
   "cell_type": "code",
   "execution_count": 6,
   "metadata": {},
   "outputs": [],
   "source": [
    "scaler = Normalizer().fit(X)\n",
    "trainX = scaler.transform(X)\n",
    "\n",
    "scaler = Normalizer().fit(T)\n",
    "testT = scaler.transform(T)\n",
    "\n",
    "\n",
    "traindata = np.array(trainX)\n",
    "trainlabel = np.array(Y)\n",
    "\n",
    "testdata = np.array(testT)\n",
    "testlabel = np.array(C)"
   ]
  },
  {
   "cell_type": "code",
   "execution_count": 24,
   "metadata": {},
   "outputs": [
    {
     "name": "stderr",
     "output_type": "stream",
     "text": [
      "/Users/vijay/Desktop/MS/Crypto And Network Security/Research Paper Implementation/Network-Intrusion-Detection-master/crypto_env/lib/python3.10/site-packages/sklearn/linear_model/_logistic.py:458: ConvergenceWarning: lbfgs failed to converge (status=1):\n",
      "STOP: TOTAL NO. of ITERATIONS REACHED LIMIT.\n",
      "\n",
      "Increase the number of iterations (max_iter) or scale the data as shown in:\n",
      "    https://scikit-learn.org/stable/modules/preprocessing.html\n",
      "Please also refer to the documentation for alternative solver options:\n",
      "    https://scikit-learn.org/stable/modules/linear_model.html#logistic-regression\n",
      "  n_iter_i = _check_optimize_result(\n"
     ]
    }
   ],
   "source": [
    "model = LogisticRegression()\n",
    "model.fit(traindata, trainlabel)\n",
    "\n",
    "\n",
    "# make predictions\n",
    "expected = testlabel\n",
    "predicted = model.predict(testdata)\n"
   ]
  },
  {
   "cell_type": "code",
   "execution_count": 25,
   "metadata": {},
   "outputs": [
    {
     "name": "stdout",
     "output_type": "stream",
     "text": [
      "0.000\n",
      "0.000\n",
      "Accuracy\n",
      "0.5348704578784422\n",
      "precision\n",
      "0.5835769312195809\n",
      "recall\n",
      "0.5348704578784422\n",
      "f-score\n",
      "0.3892630694443746\n",
      "fpr\n",
      "0.000\n",
      "tpr\n",
      "0.000\n"
     ]
    }
   ],
   "source": [
    "# summarize the fit of the model\n",
    "\n",
    "\n",
    "\n",
    "cm = confusion_matrix(expected, predicted)\n",
    "# print(cm)\n",
    "tpr = float(cm[0][0])/np.sum(cm[0])\n",
    "fpr = float(cm[1][1])/np.sum(cm[1])\n",
    "print(\"%.3f\" %tpr)\n",
    "print(\"%.3f\" %fpr)\n",
    "print(\"Accuracy\")\n",
    "print(accuracy_score(expected, predicted))\n",
    "print(\"precision\")\n",
    "print(precision_score(expected, predicted ,average='weighted', zero_division=1))\n",
    "print(\"recall\")\n",
    "print(recall_score(expected, predicted ,average='weighted',  zero_division=1))\n",
    "print(\"f-score\")\n",
    "print(f1_score(expected, predicted , average='weighted', zero_division=1))\n",
    "print(\"fpr\")\n",
    "print(\"%.3f\" %fpr)\n",
    "print(\"tpr\")\n",
    "print(\"%.3f\" %tpr)"
   ]
  },
  {
   "cell_type": "code",
   "execution_count": 8,
   "metadata": {},
   "outputs": [
    {
     "name": "stdout",
     "output_type": "stream",
     "text": [
      "GaussianNB()\n"
     ]
    }
   ],
   "source": [
    "# fit a Naive Bayes model to the data\n",
    "model = GaussianNB()\n",
    "model.fit(traindata, trainlabel)\n",
    "print(model)\n",
    "# make predictions\n",
    "expected = testlabel\n",
    "predicted = model.predict(testdata)"
   ]
  },
  {
   "cell_type": "code",
   "execution_count": 14,
   "metadata": {},
   "outputs": [
    {
     "name": "stdout",
     "output_type": "stream",
     "text": [
      "0.009\n",
      "0.000\n",
      "Accuracy\n",
      "0.07422193254032915\n",
      "precision\n",
      "0.34592301058909053\n",
      "recall\n",
      "0.07422193254032915\n",
      "f-score\n",
      "0.04129213198679182\n",
      "fpr\n",
      "0.000\n",
      "tpr\n",
      "0.009\n"
     ]
    }
   ],
   "source": [
    "# summarize the fit of the model\n",
    "\n",
    "\n",
    "\n",
    "cm = confusion_matrix(expected, predicted)\n",
    "# print(cm)\n",
    "tpr = float(cm[0][0])/np.sum(cm[0])\n",
    "fpr = float(cm[1][1])/np.sum(cm[1])\n",
    "print(\"%.3f\" %tpr)\n",
    "print(\"%.3f\" %fpr)\n",
    "print(\"Accuracy\")\n",
    "print(accuracy_score(expected, predicted))\n",
    "print(\"precision\")\n",
    "print(precision_score(expected, predicted ,average='weighted', zero_division=1))\n",
    "print(\"recall\")\n",
    "print(recall_score(expected, predicted ,average='weighted',  zero_division=1))\n",
    "print(\"f-score\")\n",
    "print(f1_score(expected, predicted , average='weighted', zero_division=1))\n",
    "print(\"fpr\")\n",
    "print(\"%.3f\" %fpr)\n",
    "print(\"tpr\")\n",
    "print(\"%.3f\" %tpr)"
   ]
  },
  {
   "cell_type": "code",
   "execution_count": 15,
   "metadata": {},
   "outputs": [
    {
     "name": "stdout",
     "output_type": "stream",
     "text": [
      "KNeighborsClassifier()\n"
     ]
    }
   ],
   "source": [
    "# fit a k-nearest neighbor model to the data\n",
    "model = KNeighborsClassifier()\n",
    "model.fit(traindata, trainlabel)\n",
    "print(model)\n",
    "# make predictions\n",
    "expected = testlabel\n",
    "predicted = model.predict(testdata)"
   ]
  },
  {
   "cell_type": "code",
   "execution_count": 16,
   "metadata": {},
   "outputs": [
    {
     "name": "stdout",
     "output_type": "stream",
     "text": [
      "0.026\n",
      "0.009\n",
      "Accuracy\n",
      "0.6141437184291999\n",
      "precision\n",
      "0.5866948783386253\n",
      "recall\n",
      "0.6141437184291999\n",
      "f-score\n",
      "0.5809647759188337\n",
      "fpr\n",
      "0.009\n",
      "tpr\n",
      "0.026\n"
     ]
    }
   ],
   "source": [
    "# summarize the fit of the model\n",
    "\n",
    "\n",
    "\n",
    "cm = confusion_matrix(expected, predicted)\n",
    "# print(cm)\n",
    "tpr = float(cm[0][0])/np.sum(cm[0])\n",
    "fpr = float(cm[1][1])/np.sum(cm[1])\n",
    "print(\"%.3f\" %tpr)\n",
    "print(\"%.3f\" %fpr)\n",
    "print(\"Accuracy\")\n",
    "print(accuracy_score(expected, predicted))\n",
    "print(\"precision\")\n",
    "print(precision_score(expected, predicted ,average='weighted', zero_division=1))\n",
    "print(\"recall\")\n",
    "print(recall_score(expected, predicted ,average='weighted',  zero_division=1))\n",
    "print(\"f-score\")\n",
    "print(f1_score(expected, predicted , average='weighted', zero_division=1))\n",
    "print(\"fpr\")\n",
    "print(\"%.3f\" %fpr)\n",
    "print(\"tpr\")\n",
    "print(\"%.3f\" %tpr)"
   ]
  },
  {
   "cell_type": "code",
   "execution_count": 17,
   "metadata": {},
   "outputs": [
    {
     "name": "stdout",
     "output_type": "stream",
     "text": [
      "DecisionTreeClassifier()\n"
     ]
    }
   ],
   "source": [
    "model = DecisionTreeClassifier()\n",
    "model.fit(traindata, trainlabel)\n",
    "print(model)\n",
    "# make predictions\n",
    "expected = testlabel\n",
    "predicted = model.predict(testdata)"
   ]
  },
  {
   "cell_type": "code",
   "execution_count": 18,
   "metadata": {},
   "outputs": [
    {
     "name": "stdout",
     "output_type": "stream",
     "text": [
      "0.017\n",
      "0.027\n",
      "Accuracy\n",
      "0.6561838031611537\n",
      "precision\n",
      "0.6361574817443858\n",
      "recall\n",
      "0.6561838031611537\n",
      "f-score\n",
      "0.6376851206576486\n",
      "fpr\n",
      "0.027\n",
      "tpr\n",
      "0.017\n"
     ]
    }
   ],
   "source": [
    "# summarize the fit of the model\n",
    "\n",
    "\n",
    "\n",
    "cm = confusion_matrix(expected, predicted)\n",
    "# print(cm)\n",
    "tpr = float(cm[0][0])/np.sum(cm[0])\n",
    "fpr = float(cm[1][1])/np.sum(cm[1])\n",
    "print(\"%.3f\" %tpr)\n",
    "print(\"%.3f\" %fpr)\n",
    "print(\"Accuracy\")\n",
    "print(accuracy_score(expected, predicted))\n",
    "print(\"precision\")\n",
    "print(precision_score(expected, predicted ,average='weighted', zero_division=1))\n",
    "print(\"recall\")\n",
    "print(recall_score(expected, predicted ,average='weighted',  zero_division=1))\n",
    "print(\"f-score\")\n",
    "print(f1_score(expected, predicted , average='weighted', zero_division=1))\n",
    "print(\"fpr\")\n",
    "print(\"%.3f\" %fpr)\n",
    "print(\"tpr\")\n",
    "print(\"%.3f\" %tpr)"
   ]
  },
  {
   "cell_type": "code",
   "execution_count": 19,
   "metadata": {},
   "outputs": [],
   "source": [
    "model = AdaBoostClassifier(n_estimators=100)\n",
    "model.fit(traindata, trainlabel)\n",
    "\n",
    "# make predictions\n",
    "expected = testlabel\n",
    "predicted = model.predict(testdata)"
   ]
  },
  {
   "cell_type": "code",
   "execution_count": 20,
   "metadata": {},
   "outputs": [
    {
     "name": "stdout",
     "output_type": "stream",
     "text": [
      "0.000\n",
      "0.018\n",
      "Accuracy\n",
      "0.5400847319537233\n",
      "precision\n",
      "0.6827199563795271\n",
      "recall\n",
      "0.5400847319537233\n",
      "f-score\n",
      "0.47444773340213503\n",
      "fpr\n",
      "0.018\n",
      "tpr\n",
      "0.000\n"
     ]
    }
   ],
   "source": [
    "# summarize the fit of the model\n",
    "\n",
    "\n",
    "\n",
    "cm = confusion_matrix(expected, predicted)\n",
    "# print(cm)\n",
    "tpr = float(cm[0][0])/np.sum(cm[0])\n",
    "fpr = float(cm[1][1])/np.sum(cm[1])\n",
    "print(\"%.3f\" %tpr)\n",
    "print(\"%.3f\" %fpr)\n",
    "print(\"Accuracy\")\n",
    "print(accuracy_score(expected, predicted))\n",
    "print(\"precision\")\n",
    "print(precision_score(expected, predicted ,average='weighted', zero_division=1))\n",
    "print(\"recall\")\n",
    "print(recall_score(expected, predicted ,average='weighted',  zero_division=1))\n",
    "print(\"f-score\")\n",
    "print(f1_score(expected, predicted , average='weighted', zero_division=1))\n",
    "print(\"fpr\")\n",
    "print(\"%.3f\" %fpr)\n",
    "print(\"tpr\")\n",
    "print(\"%.3f\" %tpr)"
   ]
  },
  {
   "cell_type": "code",
   "execution_count": 22,
   "metadata": {},
   "outputs": [],
   "source": [
    "model = RandomForestClassifier(n_estimators=100)\n",
    "model.fit(traindata, trainlabel)\n",
    "\n",
    "# make predictions\n",
    "expected = testlabel\n",
    "predicted = model.predict(testdata)"
   ]
  },
  {
   "cell_type": "code",
   "execution_count": 23,
   "metadata": {},
   "outputs": [
    {
     "name": "stdout",
     "output_type": "stream",
     "text": [
      "0.000\n",
      "0.000\n",
      "Accuracy\n",
      "0.6584650480690891\n",
      "precision\n",
      "0.6520077573702965\n",
      "recall\n",
      "0.6584650480690891\n",
      "f-score\n",
      "0.6034338124911005\n",
      "fpr\n",
      "0.000\n",
      "tpr\n",
      "0.000\n"
     ]
    }
   ],
   "source": [
    "# summarize the fit of the model\n",
    "\n",
    "\n",
    "\n",
    "cm = confusion_matrix(expected, predicted)\n",
    "# print(cm)\n",
    "tpr = float(cm[0][0])/np.sum(cm[0])\n",
    "fpr = float(cm[1][1])/np.sum(cm[1])\n",
    "print(\"%.3f\" %tpr)\n",
    "print(\"%.3f\" %fpr)\n",
    "print(\"Accuracy\")\n",
    "print(accuracy_score(expected, predicted))\n",
    "print(\"precision\")\n",
    "print(precision_score(expected, predicted ,average='weighted', zero_division=1))\n",
    "print(\"recall\")\n",
    "print(recall_score(expected, predicted ,average='weighted',  zero_division=1))\n",
    "print(\"f-score\")\n",
    "print(f1_score(expected, predicted , average='weighted', zero_division=1))\n",
    "print(\"fpr\")\n",
    "print(\"%.3f\" %fpr)\n",
    "print(\"tpr\")\n",
    "print(\"%.3f\" %tpr)"
   ]
  },
  {
   "cell_type": "code",
   "execution_count": null,
   "metadata": {},
   "outputs": [],
   "source": []
  }
 ],
 "metadata": {
  "kernelspec": {
   "display_name": "crypto_env",
   "language": "python",
   "name": "python3"
  },
  "language_info": {
   "codemirror_mode": {
    "name": "ipython",
    "version": 3
   },
   "file_extension": ".py",
   "mimetype": "text/x-python",
   "name": "python",
   "nbconvert_exporter": "python",
   "pygments_lexer": "ipython3",
   "version": "3.10.6"
  },
  "orig_nbformat": 4
 },
 "nbformat": 4,
 "nbformat_minor": 2
}
